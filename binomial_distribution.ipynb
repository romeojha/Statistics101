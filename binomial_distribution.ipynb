{
 "cells": [
  {
   "cell_type": "code",
   "execution_count": 1,
   "metadata": {},
   "outputs": [],
   "source": [
    "import numpy as np\n",
    "import pandas as pd"
   ]
  },
  {
   "cell_type": "code",
   "execution_count": 2,
   "metadata": {},
   "outputs": [
    {
     "data": {
      "text/plain": [
       "array([ 5,  5,  2,  8,  5,  6,  6,  4,  0,  4,  8,  5,  4,  3,  9,  3,  5,\n",
       "        6,  5,  5,  7,  5,  7,  6,  2,  5,  7,  7,  7,  6,  3,  5,  6,  5,\n",
       "        8,  6,  5,  3,  8,  7,  4,  5,  4,  4,  3,  2,  2,  6,  5,  6,  5,\n",
       "        3,  5,  3,  7,  4,  6,  3,  7,  5,  3,  5,  2,  2,  5,  7,  6,  4,\n",
       "        5,  5,  3,  4,  5,  5,  5,  5,  5,  4,  6,  4,  7,  7,  2,  4,  7,\n",
       "        3,  5,  7,  4,  5,  5,  4,  3,  6,  4,  4,  3,  7,  4,  4,  2,  6,\n",
       "        5,  3,  5,  6,  6,  3,  3,  5,  7,  4,  4,  3,  6,  2,  6,  7,  5,\n",
       "        4,  5,  4,  4,  5,  6,  4,  4,  5,  6,  5,  7,  9,  6,  2,  5,  5,\n",
       "        6,  6,  8,  3,  5,  5,  6,  4,  6,  6,  4,  5,  5,  4,  7,  4,  2,\n",
       "        2,  6,  8,  3,  6,  3,  6,  2,  5,  4,  4,  4,  4,  3,  4,  6,  5,\n",
       "        5,  5,  5,  7,  5,  4,  5,  7,  7,  5,  2,  7,  6,  5,  7,  6,  4,\n",
       "        5,  8,  5,  5,  4,  6,  7,  7,  4,  4,  3,  8,  5,  3,  5,  5,  3,\n",
       "        4,  5,  6,  3,  5,  5,  6,  5,  7,  5,  8,  3,  8,  8,  6,  5,  6,\n",
       "        6,  5,  4,  5,  6,  4,  6,  4,  6,  6,  4,  3,  4,  5,  3,  8,  3,\n",
       "        2,  6,  7,  7,  5,  5,  2,  5,  5,  8,  5,  5,  8,  5,  8,  5,  5,\n",
       "        8,  5,  4,  6,  5,  6,  4,  4,  4,  3,  4,  6,  5,  8,  7,  7,  5,\n",
       "        5,  4,  1,  8,  4,  4,  3,  7,  5,  3,  8,  5,  8,  4,  5,  3,  5,\n",
       "        3,  5,  6,  4,  5,  4,  6,  6,  2,  4,  6,  7,  7,  4,  6,  5,  4,\n",
       "        3,  4,  5,  3,  6,  6,  5,  4,  6,  3,  6,  6,  3,  7,  7,  5,  6,\n",
       "        2,  1,  6,  4,  6,  4,  3,  3,  4,  6,  3,  6,  5,  5,  8,  8,  4,\n",
       "        7,  6,  3,  6,  3,  3,  2,  4,  5,  6,  6,  5,  7,  5,  5,  6,  6,\n",
       "        4,  5,  5,  3,  4,  6,  6,  8,  5,  4,  5,  5,  4,  7,  6,  6,  5,\n",
       "        5,  3,  5,  5,  2,  6,  6,  6,  6,  6,  5,  4,  3,  5,  4,  2,  5,\n",
       "        5,  5,  6,  4,  6,  3,  5,  9,  4,  3,  6,  3,  5,  6,  7,  2,  5,\n",
       "        5,  6,  5,  7,  4,  2,  6,  7,  9,  7,  2,  6,  6,  6,  7,  5,  5,\n",
       "        3,  6,  3,  1,  4,  7,  7,  4,  6,  5,  4,  6,  3,  5,  8,  6,  5,\n",
       "        7,  3,  6,  2,  6,  6,  8,  3,  5,  5,  3,  7,  6,  7,  6,  6,  3,\n",
       "        7,  5,  3,  7,  5,  6,  4,  4,  4,  7,  7,  4,  6,  5,  7,  7,  6,\n",
       "        7,  6,  3,  6,  5,  4,  6,  5,  2,  4,  5,  5,  6,  5,  4,  4,  3,\n",
       "        6,  6,  6,  6,  4,  5,  5,  5,  6,  5,  5,  5,  7,  6,  8,  5,  9,\n",
       "        7,  4,  3,  7,  5,  2,  4,  2,  8,  5,  4,  6,  7,  3,  3,  6,  7,\n",
       "        6,  5,  4,  4,  4,  5,  6,  6,  3,  5,  7,  5,  7,  4,  7,  4,  7,\n",
       "        3,  5,  6,  5,  6,  4,  5,  2,  4,  7,  4,  5,  3,  6,  7,  5,  6,\n",
       "        3,  7,  7,  5,  3,  5,  6,  4,  9,  6,  5,  4,  7,  4,  3,  4,  4,\n",
       "        5,  5,  7,  5,  3,  4,  2,  3,  4,  2,  4,  7,  6,  5,  5,  5,  7,\n",
       "        6,  6,  5,  6,  2,  4,  7,  5,  6,  4,  3,  7,  7,  8,  8,  5,  4,\n",
       "        3,  2,  5,  5,  5,  5,  5,  4,  4,  7,  6,  5,  7,  5,  4,  7,  5,\n",
       "        4,  3,  3,  5,  8,  7,  5,  7,  4,  5,  6,  3,  6,  6,  4,  6,  5,\n",
       "        3,  6,  4,  3,  5,  6,  4,  6,  5,  4,  5,  3,  4,  6,  6,  6,  5,\n",
       "        5,  3,  5,  4,  4,  6,  7,  4,  7,  4,  5,  7,  4,  4,  6,  6,  5,\n",
       "        8,  4,  5,  3,  5,  7,  6,  8,  5,  6,  9,  6,  3,  5,  6,  6,  8,\n",
       "        5,  5,  6,  4,  6,  5,  5,  5,  5,  7,  4,  7,  3,  8,  5,  5,  6,\n",
       "        3,  3,  1,  5,  8,  4,  5,  5,  3,  6,  6,  5,  4,  4,  4,  4,  6,\n",
       "        7,  5,  4,  7,  5,  4,  6,  4,  5,  8,  2,  5,  6,  5,  2,  3,  4,\n",
       "        6,  7,  6,  5,  3,  6,  5,  6,  2,  8,  5,  2,  1,  6,  8,  3,  3,\n",
       "        4,  5,  7,  8,  5,  5,  6,  4,  4,  2,  2,  4,  8,  7,  6,  4,  6,\n",
       "        3,  3,  4,  4,  5,  6,  7,  4,  4,  6,  6,  4,  5,  5,  3,  4,  7,\n",
       "        3,  6,  3,  3,  3,  4,  5,  2,  4,  7,  5,  5,  1,  4,  5,  4,  3,\n",
       "        7,  6,  4,  2,  5,  6,  3,  4,  4,  5,  6,  8,  7,  9,  4,  7,  5,\n",
       "        6,  5,  6,  3,  6,  4,  4,  4,  7,  4,  5,  3,  5,  9,  5,  5,  5,\n",
       "        6,  6,  6,  6,  4,  5,  3,  5,  6,  5,  6,  6,  5,  8,  4,  5,  5,\n",
       "        6,  7,  6,  4,  6,  5,  3,  3,  4,  6,  3,  5,  5,  4,  3,  7,  5,\n",
       "        4,  4,  5,  4,  6,  6,  4,  5,  6,  5,  4,  7,  1,  6,  5,  3,  7,\n",
       "        7,  6,  4,  1,  6,  4,  4,  3,  2,  4,  5,  7,  7,  3,  6,  4,  5,\n",
       "        5,  5,  4,  3,  4,  6,  3,  4,  5,  5,  5,  7,  5,  4,  5,  4,  7,\n",
       "        2,  7,  6,  4,  2,  6,  7,  5,  7,  7,  3,  5,  4,  6,  7,  4,  8,\n",
       "        6,  6,  7,  6,  8,  4,  8,  3,  4,  2,  2,  2,  4,  6,  7,  6,  5,\n",
       "        7,  5,  3,  6,  6,  6,  4,  4,  7,  7,  4,  7,  5,  4,  4,  3,  4,\n",
       "        8,  4,  7,  9,  5, 10,  4,  3,  6,  4,  6,  5,  5,  2])"
      ]
     },
     "execution_count": 2,
     "metadata": {},
     "output_type": "execute_result"
    }
   ],
   "source": [
    "#binomial distribution\n",
    "n=10 #10 number of trials on each trial\n",
    "p=0.5 #probability of getting head/tail on each trial\n",
    "binomial_dist=np.random.binomial(n=n,p=p,size=1000) #repeating 10 trials for 1000\n",
    "binomial_dist #eg:5 number of head on 1st 10 trials\n"
   ]
  },
  {
   "cell_type": "code",
   "execution_count": 4,
   "metadata": {},
   "outputs": [
    {
     "data": {
      "text/plain": [
       "<seaborn.axisgrid.FacetGrid at 0x2372c9aa090>"
      ]
     },
     "execution_count": 4,
     "metadata": {},
     "output_type": "execute_result"
    },
    {
     "data": {
      "image/png": "[encoded data removed]",
      "text/plain": [
       "<Figure size 500x500 with 1 Axes>"
      ]
     },
     "metadata": {},
     "output_type": "display_data"
    }
   ],
   "source": [
    "import seaborn as sns\n",
    "sns.displot(binomial_dist)"
   ]
  },
  {
   "cell_type": "code",
   "execution_count": 38,
   "metadata": {},
   "outputs": [
    {
     "data": {
      "text/plain": [
       "array([[3.89803138e-01, 7.63206352e-01, 9.57657305e-01, ...,\n",
       "        9.13286349e-01, 3.45002133e-01, 7.11795167e-01],\n",
       "       [1.05604305e-01, 5.28090266e-01, 1.69343213e-01, ...,\n",
       "        1.55709165e-01, 7.80667185e-01, 1.49152942e-01],\n",
       "       [2.04374901e-01, 7.57306592e-01, 8.89940462e-02, ...,\n",
       "        7.18184051e-01, 2.67660489e-01, 7.92658528e-01],\n",
       "       ...,\n",
       "       [3.75222910e-01, 9.79687719e-01, 1.43691167e-01, ...,\n",
       "        9.36962540e-01, 1.39503696e-01, 4.53382470e-02],\n",
       "       [4.37599071e-01, 3.08197836e-01, 9.26353886e-01, ...,\n",
       "        8.00248430e-01, 6.47642150e-01, 8.24567204e-01],\n",
       "       [1.03208203e-01, 6.96935029e-01, 6.34976509e-01, ...,\n",
       "        1.24249517e-04, 1.30700438e-02, 2.77875564e-01]])"
      ]
     },
     "execution_count": 38,
     "metadata": {},
     "output_type": "execute_result"
    }
   ],
   "source": [
    "#Central limit theorm\n",
    "number_sample=1000\n",
    "sample_size=30\n",
    "distribution_range=(0,1)\n",
    "#generates a sample with uniform distribution and sample of 30 with 1000 occurences using () inside uniform\n",
    "uniform_val=np.random.uniform(0,1,30000)\n",
    "samples=np.random.uniform(distribution_range[0],distribution_range[1],size=(number_sample,sample_size)) \n",
    "samples"
   ]
  },
  {
   "cell_type": "code",
   "execution_count": 39,
   "metadata": {},
   "outputs": [
    {
     "data": {
      "text/plain": [
       "(1000, 30)"
      ]
     },
     "execution_count": 39,
     "metadata": {},
     "output_type": "execute_result"
    }
   ],
   "source": [
    "samples.shape"
   ]
  },
  {
   "cell_type": "code",
   "execution_count": 40,
   "metadata": {},
   "outputs": [],
   "source": [
    "# the axis 1 sets as such it only mean on each row of the dataset(count=1000). \n",
    "#had it been axis=0 it would mean on column resulting 30 count\n",
    "sample_mean=np.mean(samples,axis=1)"
   ]
  },
  {
   "cell_type": "code",
   "execution_count": 41,
   "metadata": {},
   "outputs": [
    {
     "data": {
      "text/plain": [
       "array([0.44958026, 0.45803361, 0.43551685, 0.47654411, 0.49090513,\n",
       "       0.46062144, 0.63601589, 0.4072399 , 0.50705791, 0.49834592,\n",
       "       0.40023323, 0.60670203, 0.52077313, 0.5733897 , 0.41664417,\n",
       "       0.56735212, 0.48643628, 0.53887434, 0.45766585, 0.46611082,\n",
       "       0.50311829, 0.37636621, 0.46973512, 0.59586012, 0.60829751,\n",
       "       0.45880755, 0.58231284, 0.54155764, 0.54213549, 0.4925262 ,\n",
       "       0.41611593, 0.51784502, 0.42456647, 0.43642518, 0.49185994,\n",
       "       0.42777229, 0.58622115, 0.4987333 , 0.50500821, 0.54768313,\n",
       "       0.61010298, 0.49054308, 0.45419018, 0.51789304, 0.53992446,\n",
       "       0.53774478, 0.44006933, 0.39484272, 0.41526669, 0.47475654,\n",
       "       0.53365167, 0.49306301, 0.4217916 , 0.45708077, 0.51321105,\n",
       "       0.49960245, 0.63331445, 0.40825094, 0.51615107, 0.51734975,\n",
       "       0.52064017, 0.49122841, 0.56065442, 0.48392671, 0.44748273,\n",
       "       0.40470944, 0.47698149, 0.49944485, 0.48520274, 0.49369481,\n",
       "       0.57114605, 0.51946759, 0.57754852, 0.57583471, 0.44858856,\n",
       "       0.4887241 , 0.46840756, 0.50296065, 0.52893411, 0.4019593 ,\n",
       "       0.4802424 , 0.57426775, 0.43905701, 0.44151074, 0.40814661,\n",
       "       0.47440866, 0.42833907, 0.4795327 , 0.42139096, 0.46875309,\n",
       "       0.48130026, 0.44270677, 0.56695335, 0.59830818, 0.51950772,\n",
       "       0.41367544, 0.41876786, 0.44745492, 0.45948437, 0.49199449,\n",
       "       0.52844259, 0.54499407, 0.4405998 , 0.43484765, 0.5554087 ,\n",
       "       0.43629501, 0.41164234, 0.55000663, 0.49420291, 0.51967455,\n",
       "       0.45942932, 0.48086533, 0.48608966, 0.53568596, 0.40558993,\n",
       "       0.58888214, 0.48010369, 0.54014025, 0.56841401, 0.4685332 ,\n",
       "       0.48437918, 0.37502826, 0.48088182, 0.48315291, 0.37721038,\n",
       "       0.42242003, 0.50205846, 0.4860576 , 0.46094869, 0.43434448,\n",
       "       0.52561395, 0.54313188, 0.46403478, 0.5419545 , 0.51302574,\n",
       "       0.54984957, 0.50125606, 0.5426846 , 0.50534589, 0.5179315 ,\n",
       "       0.42296143, 0.47795186, 0.5126195 , 0.57852783, 0.48962134,\n",
       "       0.53092309, 0.52991297, 0.46206339, 0.44167527, 0.48800289,\n",
       "       0.53784083, 0.46964132, 0.4699986 , 0.46735777, 0.57710218,\n",
       "       0.43091556, 0.55577889, 0.56043627, 0.40998847, 0.40312279,\n",
       "       0.53785797, 0.58946201, 0.53862922, 0.45040649, 0.53211155,\n",
       "       0.5501205 , 0.38907504, 0.45206497, 0.51657347, 0.49282096,\n",
       "       0.35730816, 0.53040114, 0.44163671, 0.54639476, 0.54882082,\n",
       "       0.58341273, 0.51093034, 0.54556987, 0.40090663, 0.45321113,\n",
       "       0.41100312, 0.560063  , 0.66592868, 0.44961621, 0.56230445,\n",
       "       0.5683214 , 0.56143385, 0.53432536, 0.51691113, 0.63860862,\n",
       "       0.55903364, 0.51329135, 0.44662227, 0.44781488, 0.44971694,\n",
       "       0.50718479, 0.51215104, 0.61700523, 0.51797008, 0.48845318,\n",
       "       0.43190666, 0.49501582, 0.46520668, 0.44993874, 0.458556  ,\n",
       "       0.50568763, 0.56186422, 0.55218633, 0.53205097, 0.44784153,\n",
       "       0.53044164, 0.42292161, 0.42046646, 0.5393271 , 0.45928564,\n",
       "       0.50964187, 0.53405162, 0.45840083, 0.42025816, 0.55145937,\n",
       "       0.43991132, 0.53392983, 0.40840129, 0.52748199, 0.5285506 ,\n",
       "       0.44766159, 0.52268132, 0.53157035, 0.52470916, 0.52981748,\n",
       "       0.52132909, 0.51026869, 0.48346972, 0.52690246, 0.55031362,\n",
       "       0.61589633, 0.51643319, 0.53282196, 0.60017022, 0.40011496,\n",
       "       0.55639482, 0.48603693, 0.46331058, 0.4811817 , 0.48491178,\n",
       "       0.5272551 , 0.51113926, 0.52008496, 0.45207679, 0.53261906,\n",
       "       0.50843612, 0.52951355, 0.572468  , 0.5518817 , 0.49489003,\n",
       "       0.45878992, 0.50079002, 0.49731092, 0.48297452, 0.61586495,\n",
       "       0.53000296, 0.47693439, 0.50941457, 0.39333757, 0.40472361,\n",
       "       0.52129163, 0.51749318, 0.51196311, 0.55332196, 0.50061897,\n",
       "       0.47911923, 0.48359175, 0.48477982, 0.48834712, 0.44176023,\n",
       "       0.51262756, 0.47276285, 0.55648471, 0.45806169, 0.48683631,\n",
       "       0.52699987, 0.57322194, 0.50850996, 0.38387829, 0.43127768,\n",
       "       0.38550057, 0.56213261, 0.46402947, 0.4606212 , 0.45103294,\n",
       "       0.47209969, 0.61924425, 0.45880217, 0.54215204, 0.48490643,\n",
       "       0.4739078 , 0.45484979, 0.43622018, 0.50400679, 0.51354772,\n",
       "       0.52119968, 0.46000076, 0.52793879, 0.44309816, 0.5183342 ,\n",
       "       0.56545435, 0.39766685, 0.55606036, 0.38204361, 0.5128735 ,\n",
       "       0.53488774, 0.53691431, 0.48509458, 0.41494909, 0.38682431,\n",
       "       0.50421296, 0.45119577, 0.48701398, 0.46748605, 0.49102984,\n",
       "       0.58019786, 0.44571481, 0.53652467, 0.49259467, 0.55319028,\n",
       "       0.40692565, 0.47073135, 0.5391899 , 0.47838542, 0.48419649,\n",
       "       0.5494217 , 0.48375465, 0.51174439, 0.47815238, 0.4824732 ,\n",
       "       0.49982654, 0.54960486, 0.4411267 , 0.52745283, 0.47914426,\n",
       "       0.52876516, 0.52094476, 0.49453525, 0.45855067, 0.52288209,\n",
       "       0.49481945, 0.51093699, 0.58331068, 0.49407128, 0.48125527,\n",
       "       0.46386086, 0.4995924 , 0.47454867, 0.60312292, 0.55639107,\n",
       "       0.52430855, 0.40221856, 0.50503107, 0.6142518 , 0.4819872 ,\n",
       "       0.61802281, 0.46252257, 0.43322395, 0.50743184, 0.43850113,\n",
       "       0.58178879, 0.48707671, 0.54357061, 0.45372952, 0.51257323,\n",
       "       0.48358827, 0.47495226, 0.41472711, 0.49526786, 0.46459469,\n",
       "       0.54263889, 0.52850952, 0.6182162 , 0.54875236, 0.46342025,\n",
       "       0.4265638 , 0.60781965, 0.50950353, 0.48369518, 0.57899679,\n",
       "       0.52014835, 0.61892862, 0.43013983, 0.57854829, 0.47142658,\n",
       "       0.51501827, 0.50921324, 0.5190067 , 0.49361579, 0.49133442,\n",
       "       0.57658455, 0.51694803, 0.49998588, 0.47886162, 0.52107989,\n",
       "       0.47296606, 0.56786909, 0.49386664, 0.50690915, 0.53481433,\n",
       "       0.56865557, 0.46733922, 0.49347909, 0.54317534, 0.5285835 ,\n",
       "       0.55592089, 0.48349566, 0.55045732, 0.50033282, 0.47491856,\n",
       "       0.50831257, 0.49989783, 0.46101761, 0.49608845, 0.51752074,\n",
       "       0.36775589, 0.54320013, 0.49468526, 0.49924986, 0.4975271 ,\n",
       "       0.44667466, 0.53147101, 0.61389892, 0.47921794, 0.47847578,\n",
       "       0.54899067, 0.54541783, 0.4139679 , 0.47778909, 0.43780096,\n",
       "       0.37428388, 0.48255209, 0.49121504, 0.57911477, 0.4421014 ,\n",
       "       0.51552442, 0.55309556, 0.41177464, 0.52306521, 0.4319639 ,\n",
       "       0.49403414, 0.49751756, 0.45122772, 0.52551925, 0.53333995,\n",
       "       0.50706466, 0.50821995, 0.52050452, 0.43670687, 0.51004457,\n",
       "       0.5313714 , 0.47675831, 0.5605629 , 0.53579698, 0.50512387,\n",
       "       0.44006785, 0.50093801, 0.37204877, 0.54437568, 0.45728766,\n",
       "       0.48094336, 0.55955021, 0.5298368 , 0.52708468, 0.50556011,\n",
       "       0.55538586, 0.50410543, 0.57246261, 0.50409077, 0.50388281,\n",
       "       0.51877525, 0.56471319, 0.42280086, 0.53961826, 0.60227071,\n",
       "       0.47023794, 0.43767816, 0.56731141, 0.5331224 , 0.50132551,\n",
       "       0.44055213, 0.46220395, 0.48165211, 0.37335289, 0.4731671 ,\n",
       "       0.47613408, 0.45389979, 0.52877719, 0.42415017, 0.53920415,\n",
       "       0.52345526, 0.44653412, 0.50543652, 0.53260067, 0.54683457,\n",
       "       0.56252528, 0.49049655, 0.40856768, 0.573465  , 0.48586796,\n",
       "       0.61499299, 0.55519034, 0.47093078, 0.45948521, 0.50175501,\n",
       "       0.48731082, 0.46228524, 0.49866576, 0.51291287, 0.50896507,\n",
       "       0.46467858, 0.38198072, 0.66750134, 0.50172491, 0.48534666,\n",
       "       0.4549174 , 0.48812761, 0.56056389, 0.5087461 , 0.49445032,\n",
       "       0.53383044, 0.55926485, 0.423576  , 0.53529593, 0.56847026,\n",
       "       0.55159278, 0.42442709, 0.48730887, 0.57986461, 0.46476549,\n",
       "       0.51855572, 0.51628209, 0.42746434, 0.58858203, 0.5251234 ,\n",
       "       0.50721296, 0.55907488, 0.49485883, 0.44937426, 0.57721647,\n",
       "       0.50413311, 0.54605423, 0.59886171, 0.52656747, 0.58431283,\n",
       "       0.48852103, 0.53294927, 0.56412532, 0.48551437, 0.46722217,\n",
       "       0.52445708, 0.49389782, 0.44206843, 0.6396645 , 0.50311601,\n",
       "       0.48355828, 0.55854198, 0.502774  , 0.46716808, 0.51735533,\n",
       "       0.55676494, 0.52918926, 0.49088937, 0.43004237, 0.47520473,\n",
       "       0.54381827, 0.53874379, 0.54510694, 0.49326912, 0.50772617,\n",
       "       0.57815179, 0.39476456, 0.52577443, 0.49060091, 0.46670915,\n",
       "       0.5107283 , 0.46602035, 0.36250655, 0.48597855, 0.58257635,\n",
       "       0.52250718, 0.5072401 , 0.53243391, 0.47361131, 0.50534033,\n",
       "       0.58841992, 0.56774359, 0.48189954, 0.58728719, 0.4206868 ,\n",
       "       0.55001948, 0.38757026, 0.59370914, 0.61479144, 0.48144545,\n",
       "       0.50859107, 0.41243666, 0.48079562, 0.46015669, 0.41581501,\n",
       "       0.46107258, 0.48027513, 0.57514464, 0.48706952, 0.58478666,\n",
       "       0.4893111 , 0.54678459, 0.44512947, 0.45725966, 0.53791463,\n",
       "       0.52274464, 0.52180237, 0.4599398 , 0.47560484, 0.48423083,\n",
       "       0.45269269, 0.56615355, 0.40279935, 0.48482383, 0.542956  ,\n",
       "       0.49770384, 0.51533234, 0.45486958, 0.47076853, 0.42887873,\n",
       "       0.47217177, 0.47479659, 0.5418187 , 0.38151333, 0.50325066,\n",
       "       0.42564977, 0.48014512, 0.5792018 , 0.51542162, 0.49894272,\n",
       "       0.46207049, 0.53416734, 0.47527762, 0.51048464, 0.4865398 ,\n",
       "       0.56708409, 0.56399372, 0.53230327, 0.43770246, 0.62824106,\n",
       "       0.58483172, 0.4178682 , 0.52074103, 0.49700549, 0.51741385,\n",
       "       0.4664152 , 0.54089915, 0.45446826, 0.48430919, 0.60493896,\n",
       "       0.48143541, 0.54571902, 0.44636681, 0.52673985, 0.59971761,\n",
       "       0.55150435, 0.54540882, 0.42797986, 0.49858975, 0.45509791,\n",
       "       0.50826192, 0.49970569, 0.45655205, 0.50621344, 0.47190298,\n",
       "       0.5366835 , 0.52781438, 0.48589126, 0.45250472, 0.44057646,\n",
       "       0.49192634, 0.48229391, 0.55228927, 0.53597814, 0.4689617 ,\n",
       "       0.42063676, 0.50389586, 0.43701935, 0.53687766, 0.48009867,\n",
       "       0.38992101, 0.47224567, 0.49800175, 0.49084719, 0.5946571 ,\n",
       "       0.4796895 , 0.45205935, 0.57991238, 0.48168732, 0.49745471,\n",
       "       0.53307194, 0.51830789, 0.48342963, 0.53290792, 0.48542697,\n",
       "       0.43406849, 0.52909382, 0.45492012, 0.3640026 , 0.65086303,\n",
       "       0.50864743, 0.46217442, 0.41163345, 0.37142192, 0.49889436,\n",
       "       0.36532508, 0.42226326, 0.43350806, 0.5634572 , 0.48085078,\n",
       "       0.51428388, 0.52583822, 0.57264591, 0.44605228, 0.48923144,\n",
       "       0.52740373, 0.45474906, 0.41979239, 0.54110287, 0.43354131,\n",
       "       0.47909196, 0.48106745, 0.47672148, 0.44717366, 0.52452078,\n",
       "       0.53083486, 0.52281771, 0.46079932, 0.47926662, 0.4763599 ,\n",
       "       0.46190081, 0.51435272, 0.4600167 , 0.49038741, 0.39840296,\n",
       "       0.5280443 , 0.4521542 , 0.41320374, 0.42262229, 0.42179848,\n",
       "       0.45910571, 0.45441045, 0.45785641, 0.49391517, 0.4952471 ,\n",
       "       0.47856491, 0.56505676, 0.49380153, 0.56265786, 0.45645691,\n",
       "       0.51333783, 0.46594737, 0.52843567, 0.44818473, 0.49611153,\n",
       "       0.51167651, 0.56409512, 0.49594911, 0.45870473, 0.53343543,\n",
       "       0.61110688, 0.40436704, 0.4910783 , 0.57521262, 0.45211976,\n",
       "       0.48555402, 0.58193422, 0.47893275, 0.46361467, 0.51221446,\n",
       "       0.55930083, 0.52503457, 0.4565146 , 0.52164008, 0.43683168,\n",
       "       0.48337542, 0.54568469, 0.57862131, 0.53496997, 0.50576017,\n",
       "       0.50590624, 0.54400719, 0.44555428, 0.4576272 , 0.55024471,\n",
       "       0.4587583 , 0.53157878, 0.49117509, 0.49159578, 0.4989013 ,\n",
       "       0.47832413, 0.45054845, 0.39045245, 0.54748092, 0.4560633 ,\n",
       "       0.48562062, 0.41596018, 0.43228057, 0.44978481, 0.45906467,\n",
       "       0.55481834, 0.45574292, 0.53283044, 0.51374574, 0.51028626,\n",
       "       0.4029833 , 0.50968057, 0.44273744, 0.44990349, 0.51686028,\n",
       "       0.40572482, 0.51892375, 0.48474062, 0.49128238, 0.62586891,\n",
       "       0.46076151, 0.46159719, 0.41277849, 0.49008278, 0.51330943,\n",
       "       0.58893337, 0.48033532, 0.52862972, 0.51047806, 0.41343038,\n",
       "       0.413237  , 0.5010558 , 0.53802473, 0.56931015, 0.48991813,\n",
       "       0.46929953, 0.47467643, 0.45641463, 0.5767869 , 0.47469141,\n",
       "       0.47193349, 0.51950644, 0.52240269, 0.46658068, 0.51231977,\n",
       "       0.46564263, 0.53637781, 0.50828782, 0.54218535, 0.42510434,\n",
       "       0.55381191, 0.46174602, 0.52710099, 0.5319003 , 0.57906238,\n",
       "       0.48896533, 0.57363389, 0.45090224, 0.50218182, 0.43062027,\n",
       "       0.49572184, 0.53974609, 0.52795038, 0.49878434, 0.43867479,\n",
       "       0.44240658, 0.47865767, 0.4057384 , 0.44273027, 0.51667788,\n",
       "       0.47240173, 0.51778931, 0.48436992, 0.5396    , 0.40286678,\n",
       "       0.52921951, 0.54863707, 0.55011272, 0.47469358, 0.54141369,\n",
       "       0.47418545, 0.43208917, 0.53683424, 0.44553147, 0.42713921,\n",
       "       0.46068383, 0.57660244, 0.52140054, 0.47159484, 0.47406011,\n",
       "       0.43975111, 0.52892251, 0.49410429, 0.57076048, 0.49978935,\n",
       "       0.45918632, 0.4642663 , 0.5367726 , 0.55243368, 0.53078961,\n",
       "       0.58504851, 0.46453078, 0.53231738, 0.48251177, 0.50096116,\n",
       "       0.48791485, 0.47656738, 0.4815743 , 0.51707874, 0.46117343,\n",
       "       0.54342872, 0.49489353, 0.52585769, 0.41640337, 0.45842164,\n",
       "       0.54938351, 0.48966211, 0.42027621, 0.53340474, 0.52594399,\n",
       "       0.4155327 , 0.48933227, 0.39949273, 0.42507926, 0.53483433,\n",
       "       0.49235349, 0.54310299, 0.45540589, 0.41858572, 0.43013594,\n",
       "       0.56674064, 0.45777614, 0.44164924, 0.5326943 , 0.44195157,\n",
       "       0.46120161, 0.56354534, 0.43728201, 0.47812069, 0.48981013,\n",
       "       0.65935971, 0.47416696, 0.55046591, 0.56290168, 0.52248122,\n",
       "       0.59330004, 0.49123102, 0.59668648, 0.42417103, 0.44668706,\n",
       "       0.57052251, 0.52722229, 0.4176712 , 0.54429472, 0.34695084,\n",
       "       0.47173458, 0.4060973 , 0.37290686, 0.61199013, 0.43360665,\n",
       "       0.49325828, 0.42112461, 0.48978421, 0.57460906, 0.51110339,\n",
       "       0.49995531, 0.51908056, 0.60455432, 0.48185212, 0.57386902,\n",
       "       0.48697651, 0.58194727, 0.57645726, 0.54301728, 0.48928481,\n",
       "       0.53769805, 0.59556194, 0.58338869, 0.53489917, 0.43404884,\n",
       "       0.4535601 , 0.46400329, 0.48550664, 0.41894324, 0.48132405,\n",
       "       0.53794596, 0.48374589, 0.59206954, 0.51677414, 0.50006823,\n",
       "       0.54130121, 0.5620915 , 0.47648305, 0.45727328, 0.40095842])"
      ]
     },
     "execution_count": 41,
     "metadata": {},
     "output_type": "execute_result"
    }
   ],
   "source": [
    "sample_mean"
   ]
  },
  {
   "cell_type": "markdown",
   "metadata": {},
   "source": []
  },
  {
   "cell_type": "code",
   "execution_count": 42,
   "metadata": {},
   "outputs": [
    {
     "name": "stderr",
     "output_type": "stream",
     "text": [
      "C:\\Users\\Dell\\AppData\\Local\\Temp\\ipykernel_22520\\2934012834.py:1: UserWarning: \n",
      "\n",
      "`distplot` is a deprecated function and will be removed in seaborn v0.14.0.\n",
      "\n",
      "Please adapt your code to use either `displot` (a figure-level function with\n",
      "similar flexibility) or `histplot` (an axes-level function for histograms).\n",
      "\n",
      "For a guide to updating your code to use the new functions, please see\n",
      "https://gist.github.com/mwaskom/de44147ed2974457ad6372750bbe5751\n",
      "\n",
      "  sns.distplot(sample_mean,bins=50)\n"
     ]
    },
    {
     "data": {
      "text/plain": [
       "<Axes: ylabel='Density'>"
      ]
     },
     "execution_count": 42,
     "metadata": {},
     "output_type": "execute_result"
    },
    {
     "data": {
      "image/png": "[encoded data removed]",
      "text/plain": [
       "<Figure size 640x480 with 1 Axes>"
      ]
     },
     "metadata": {},
     "output_type": "display_data"
    }
   ],
   "source": [
    "sns.distplot(sample_mean,bins=50)"
   ]
  },
  {
   "cell_type": "code",
   "execution_count": 43,
   "metadata": {},
   "outputs": [
    {
     "data": {
      "text/plain": [
       "array([0.18884431, 0.27811917, 0.46484028, ..., 0.73382488, 0.19578587,\n",
       "       0.30965868])"
      ]
     },
     "execution_count": 43,
     "metadata": {},
     "output_type": "execute_result"
    }
   ],
   "source": [
    "uniform_val"
   ]
  },
  {
   "cell_type": "code",
   "execution_count": 51,
   "metadata": {},
   "outputs": [
    {
     "data": {
      "text/plain": [
       "0.4984836049977226"
      ]
     },
     "execution_count": 51,
     "metadata": {},
     "output_type": "execute_result"
    }
   ],
   "source": [
    "uniform_val.mean()"
   ]
  },
  {
   "cell_type": "code",
   "execution_count": 52,
   "metadata": {},
   "outputs": [
    {
     "data": {
      "text/plain": [
       "0.08262292480559279"
      ]
     },
     "execution_count": 52,
     "metadata": {},
     "output_type": "execute_result"
    }
   ],
   "source": [
    "uniform_val.var()"
   ]
  },
  {
   "cell_type": "markdown",
   "metadata": {},
   "source": [
    "the uniform distribution,independent of the sample distribution, both has a mean and standard deviation of similar values"
   ]
  },
  {
   "cell_type": "code",
   "execution_count": 53,
   "metadata": {},
   "outputs": [
    {
     "data": {
      "text/plain": [
       "0.4976764335057248"
      ]
     },
     "execution_count": 53,
     "metadata": {},
     "output_type": "execute_result"
    }
   ],
   "source": [
    "samples.mean()"
   ]
  },
  {
   "cell_type": "code",
   "execution_count": 54,
   "metadata": {},
   "outputs": [
    {
     "data": {
      "text/plain": [
       "0.08330989332413578"
      ]
     },
     "execution_count": 54,
     "metadata": {},
     "output_type": "execute_result"
    }
   ],
   "source": [
    "samples.var()"
   ]
  },
  {
   "cell_type": "code",
   "execution_count": 55,
   "metadata": {},
   "outputs": [
    {
     "data": {
      "text/html": [
       "<div>\n",
       "<style scoped>\n",
       "    .dataframe tbody tr th:only-of-type {\n",
       "        vertical-align: middle;\n",
       "    }\n",
       "\n",
       "    .dataframe tbody tr th {\n",
       "        vertical-align: top;\n",
       "    }\n",
       "\n",
       "    .dataframe thead th {\n",
       "        text-align: right;\n",
       "    }\n",
       "</style>\n",
       "<table border=\"1\" class=\"dataframe\">\n",
       "  <thead>\n",
       "    <tr style=\"text-align: right;\">\n",
       "      <th></th>\n",
       "      <th>survived</th>\n",
       "      <th>pclass</th>\n",
       "      <th>sex</th>\n",
       "      <th>age</th>\n",
       "      <th>sibsp</th>\n",
       "      <th>parch</th>\n",
       "      <th>fare</th>\n",
       "      <th>embarked</th>\n",
       "      <th>class</th>\n",
       "      <th>who</th>\n",
       "      <th>adult_male</th>\n",
       "      <th>deck</th>\n",
       "      <th>embark_town</th>\n",
       "      <th>alive</th>\n",
       "      <th>alone</th>\n",
       "    </tr>\n",
       "  </thead>\n",
       "  <tbody>\n",
       "    <tr>\n",
       "      <th>0</th>\n",
       "      <td>0</td>\n",
       "      <td>3</td>\n",
       "      <td>male</td>\n",
       "      <td>22.0</td>\n",
       "      <td>1</td>\n",
       "      <td>0</td>\n",
       "      <td>7.2500</td>\n",
       "      <td>S</td>\n",
       "      <td>Third</td>\n",
       "      <td>man</td>\n",
       "      <td>True</td>\n",
       "      <td>NaN</td>\n",
       "      <td>Southampton</td>\n",
       "      <td>no</td>\n",
       "      <td>False</td>\n",
       "    </tr>\n",
       "    <tr>\n",
       "      <th>1</th>\n",
       "      <td>1</td>\n",
       "      <td>1</td>\n",
       "      <td>female</td>\n",
       "      <td>38.0</td>\n",
       "      <td>1</td>\n",
       "      <td>0</td>\n",
       "      <td>71.2833</td>\n",
       "      <td>C</td>\n",
       "      <td>First</td>\n",
       "      <td>woman</td>\n",
       "      <td>False</td>\n",
       "      <td>C</td>\n",
       "      <td>Cherbourg</td>\n",
       "      <td>yes</td>\n",
       "      <td>False</td>\n",
       "    </tr>\n",
       "    <tr>\n",
       "      <th>2</th>\n",
       "      <td>1</td>\n",
       "      <td>3</td>\n",
       "      <td>female</td>\n",
       "      <td>26.0</td>\n",
       "      <td>0</td>\n",
       "      <td>0</td>\n",
       "      <td>7.9250</td>\n",
       "      <td>S</td>\n",
       "      <td>Third</td>\n",
       "      <td>woman</td>\n",
       "      <td>False</td>\n",
       "      <td>NaN</td>\n",
       "      <td>Southampton</td>\n",
       "      <td>yes</td>\n",
       "      <td>True</td>\n",
       "    </tr>\n",
       "    <tr>\n",
       "      <th>3</th>\n",
       "      <td>1</td>\n",
       "      <td>1</td>\n",
       "      <td>female</td>\n",
       "      <td>35.0</td>\n",
       "      <td>1</td>\n",
       "      <td>0</td>\n",
       "      <td>53.1000</td>\n",
       "      <td>S</td>\n",
       "      <td>First</td>\n",
       "      <td>woman</td>\n",
       "      <td>False</td>\n",
       "      <td>C</td>\n",
       "      <td>Southampton</td>\n",
       "      <td>yes</td>\n",
       "      <td>False</td>\n",
       "    </tr>\n",
       "    <tr>\n",
       "      <th>4</th>\n",
       "      <td>0</td>\n",
       "      <td>3</td>\n",
       "      <td>male</td>\n",
       "      <td>35.0</td>\n",
       "      <td>0</td>\n",
       "      <td>0</td>\n",
       "      <td>8.0500</td>\n",
       "      <td>S</td>\n",
       "      <td>Third</td>\n",
       "      <td>man</td>\n",
       "      <td>True</td>\n",
       "      <td>NaN</td>\n",
       "      <td>Southampton</td>\n",
       "      <td>no</td>\n",
       "      <td>True</td>\n",
       "    </tr>\n",
       "    <tr>\n",
       "      <th>...</th>\n",
       "      <td>...</td>\n",
       "      <td>...</td>\n",
       "      <td>...</td>\n",
       "      <td>...</td>\n",
       "      <td>...</td>\n",
       "      <td>...</td>\n",
       "      <td>...</td>\n",
       "      <td>...</td>\n",
       "      <td>...</td>\n",
       "      <td>...</td>\n",
       "      <td>...</td>\n",
       "      <td>...</td>\n",
       "      <td>...</td>\n",
       "      <td>...</td>\n",
       "      <td>...</td>\n",
       "    </tr>\n",
       "    <tr>\n",
       "      <th>886</th>\n",
       "      <td>0</td>\n",
       "      <td>2</td>\n",
       "      <td>male</td>\n",
       "      <td>27.0</td>\n",
       "      <td>0</td>\n",
       "      <td>0</td>\n",
       "      <td>13.0000</td>\n",
       "      <td>S</td>\n",
       "      <td>Second</td>\n",
       "      <td>man</td>\n",
       "      <td>True</td>\n",
       "      <td>NaN</td>\n",
       "      <td>Southampton</td>\n",
       "      <td>no</td>\n",
       "      <td>True</td>\n",
       "    </tr>\n",
       "    <tr>\n",
       "      <th>887</th>\n",
       "      <td>1</td>\n",
       "      <td>1</td>\n",
       "      <td>female</td>\n",
       "      <td>19.0</td>\n",
       "      <td>0</td>\n",
       "      <td>0</td>\n",
       "      <td>30.0000</td>\n",
       "      <td>S</td>\n",
       "      <td>First</td>\n",
       "      <td>woman</td>\n",
       "      <td>False</td>\n",
       "      <td>B</td>\n",
       "      <td>Southampton</td>\n",
       "      <td>yes</td>\n",
       "      <td>True</td>\n",
       "    </tr>\n",
       "    <tr>\n",
       "      <th>888</th>\n",
       "      <td>0</td>\n",
       "      <td>3</td>\n",
       "      <td>female</td>\n",
       "      <td>NaN</td>\n",
       "      <td>1</td>\n",
       "      <td>2</td>\n",
       "      <td>23.4500</td>\n",
       "      <td>S</td>\n",
       "      <td>Third</td>\n",
       "      <td>woman</td>\n",
       "      <td>False</td>\n",
       "      <td>NaN</td>\n",
       "      <td>Southampton</td>\n",
       "      <td>no</td>\n",
       "      <td>False</td>\n",
       "    </tr>\n",
       "    <tr>\n",
       "      <th>889</th>\n",
       "      <td>1</td>\n",
       "      <td>1</td>\n",
       "      <td>male</td>\n",
       "      <td>26.0</td>\n",
       "      <td>0</td>\n",
       "      <td>0</td>\n",
       "      <td>30.0000</td>\n",
       "      <td>C</td>\n",
       "      <td>First</td>\n",
       "      <td>man</td>\n",
       "      <td>True</td>\n",
       "      <td>C</td>\n",
       "      <td>Cherbourg</td>\n",
       "      <td>yes</td>\n",
       "      <td>True</td>\n",
       "    </tr>\n",
       "    <tr>\n",
       "      <th>890</th>\n",
       "      <td>0</td>\n",
       "      <td>3</td>\n",
       "      <td>male</td>\n",
       "      <td>32.0</td>\n",
       "      <td>0</td>\n",
       "      <td>0</td>\n",
       "      <td>7.7500</td>\n",
       "      <td>Q</td>\n",
       "      <td>Third</td>\n",
       "      <td>man</td>\n",
       "      <td>True</td>\n",
       "      <td>NaN</td>\n",
       "      <td>Queenstown</td>\n",
       "      <td>no</td>\n",
       "      <td>True</td>\n",
       "    </tr>\n",
       "  </tbody>\n",
       "</table>\n",
       "<p>891 rows × 15 columns</p>\n",
       "</div>"
      ],
      "text/plain": [
       "     survived  pclass     sex   age  sibsp  parch     fare embarked   class   \n",
       "0           0       3    male  22.0      1      0   7.2500        S   Third  \\\n",
       "1           1       1  female  38.0      1      0  71.2833        C   First   \n",
       "2           1       3  female  26.0      0      0   7.9250        S   Third   \n",
       "3           1       1  female  35.0      1      0  53.1000        S   First   \n",
       "4           0       3    male  35.0      0      0   8.0500        S   Third   \n",
       "..        ...     ...     ...   ...    ...    ...      ...      ...     ...   \n",
       "886         0       2    male  27.0      0      0  13.0000        S  Second   \n",
       "887         1       1  female  19.0      0      0  30.0000        S   First   \n",
       "888         0       3  female   NaN      1      2  23.4500        S   Third   \n",
       "889         1       1    male  26.0      0      0  30.0000        C   First   \n",
       "890         0       3    male  32.0      0      0   7.7500        Q   Third   \n",
       "\n",
       "       who  adult_male deck  embark_town alive  alone  \n",
       "0      man        True  NaN  Southampton    no  False  \n",
       "1    woman       False    C    Cherbourg   yes  False  \n",
       "2    woman       False  NaN  Southampton   yes   True  \n",
       "3    woman       False    C  Southampton   yes  False  \n",
       "4      man        True  NaN  Southampton    no   True  \n",
       "..     ...         ...  ...          ...   ...    ...  \n",
       "886    man        True  NaN  Southampton    no   True  \n",
       "887  woman       False    B  Southampton   yes   True  \n",
       "888  woman       False  NaN  Southampton    no  False  \n",
       "889    man        True    C    Cherbourg   yes   True  \n",
       "890    man        True  NaN   Queenstown    no   True  \n",
       "\n",
       "[891 rows x 15 columns]"
      ]
     },
     "execution_count": 55,
     "metadata": {},
     "output_type": "execute_result"
    }
   ],
   "source": [
    "sns.load_dataset('titanic')"
   ]
  },
  {
   "cell_type": "code",
   "execution_count": null,
   "metadata": {},
   "outputs": [],
   "source": []
  }
 ],
 "metadata": {
  "kernelspec": {
   "display_name": "Python 3",
   "language": "python",
   "name": "python3"
  },
  "language_info": {
   "codemirror_mode": {
    "name": "ipython",
    "version": 3
   },
   "file_extension": ".py",
   "mimetype": "text/x-python",
   "name": "python",
   "nbconvert_exporter": "python",
   "pygments_lexer": "ipython3",
   "version": "3.11.3"
  },
  "orig_nbformat": 4
 },
 "nbformat": 4,
 "nbformat_minor": 2
}
